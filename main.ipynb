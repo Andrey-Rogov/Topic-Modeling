{
 "cells": [
  {
   "cell_type": "code",
   "execution_count": 1,
   "id": "a7c659a1",
   "metadata": {},
   "outputs": [],
   "source": [
    "import re\n",
    "import nltk\n",
    "import pandas as pd\n",
    "from gensim.models import Phrases\n",
    "from nltk.corpus import stopwords\n",
    "from gensim.models.doc2vec import Doc2Vec, TaggedDocument\n",
    "from gensim.models import CoherenceModel, LdaModel, LsiModel, HdpModel"
   ]
  },
  {
   "cell_type": "code",
   "execution_count": 2,
   "id": "c5ebd30e",
   "metadata": {},
   "outputs": [],
   "source": [
    "# nltk.download('punkt')                       # for tokenization\n",
    "# nltk.download('wordnet')                     # for lemmatizer\n",
    "# nltk.download('averaged_perceptron_tagger')  # for POS tagging\n",
    "# nltk.download('stopwords')                   # for stop words"
   ]
  },
  {
   "cell_type": "code",
   "execution_count": 3,
   "id": "95edbeaa",
   "metadata": {},
   "outputs": [],
   "source": [
    "def load_data(filename):\n",
    "    data = pd.read_json(filename)\n",
    "    x = []\n",
    "    for i in range(data.shape[0]):\n",
    "        x.append(data.iloc[i]['catalog']['text'])\n",
    "    return x"
   ]
  },
  {
   "cell_type": "markdown",
   "id": "a3c8a862",
   "metadata": {},
   "source": [
    "# Preprocessing"
   ]
  },
  {
   "cell_type": "markdown",
   "id": "442100ec",
   "metadata": {},
   "source": [
    "1. Tokenization\n",
    "2. Stopwords and punctuation removal\n",
    "3. POS tagging\n",
    "4. Lemmatization\n",
    "5. Uniting bigrams"
   ]
  },
  {
   "cell_type": "code",
   "execution_count": 4,
   "id": "a1c62a35",
   "metadata": {},
   "outputs": [],
   "source": [
    "data = load_data('data_bbc.json')\n",
    "for sent in range(len(data)):\n",
    "    data[sent] = nltk.word_tokenize(data[sent])\n",
    "    for word in range(len(data[sent])):\n",
    "        if data[sent][word].startswith(\"'\"):\n",
    "            data[sent][word] = data[sent][word][1:].lower()\n",
    "        elif data[sent][word].endswith(\"'\"):\n",
    "            data[sent][word] = data[sent][word][:1].lower()\n",
    "        else:\n",
    "            data[sent][word] = data[sent][word].lower()\n",
    "\n",
    "stop_words = set(stopwords.words('english'))\n",
    "punctuation = ('…', '“', ';', '-', '!', '+', '’', '‘', '?',\n",
    "               '—', '/', 'Ó', '”', '[', '@', '$', ')', '&',\n",
    "               '%', ']', ':', '•', \"'\", '#', '=', '–', '(',\n",
    "              ',', '.', '``', '', \"n't\")\n",
    "data = [[word for word in sent if word not in stop_words and word not in punctuation] for sent in data]"
   ]
  },
  {
   "cell_type": "code",
   "execution_count": 5,
   "id": "db934ced",
   "metadata": {},
   "outputs": [],
   "source": [
    "def simplify_pos_tag(sent):\n",
    "    tag_map = {\n",
    "        \"NN\": \"n\", \"NNS\": \"n\", \"NNP\": \"n\", \"NNPS\": \"n\",\n",
    "        \"VB\": \"v\", \"VBD\": \"v\", \"VBG\": \"v\", \"VBN\": \"v\",\n",
    "        \"VBP\": \"v\", \"VBZ\": \"v\", \"JJ\": \"a\", \"JJR\": \"a\",\n",
    "        \"JJS\": \"a\", \"RB\": \"r\", \"RBR\": \"r\", \"RBS\": \"r\",\n",
    "        \"DT\": \"s\", \"PRP$\": \"s\", \"POS\": \"s\",\n",
    "    }\n",
    "    return [(word[0], tag_map[word[1]]) for word in sent if word[1] in tag_map]"
   ]
  },
  {
   "cell_type": "code",
   "execution_count": 6,
   "id": "83e77ec0",
   "metadata": {},
   "outputs": [],
   "source": [
    "lemmatizer = nltk.stem.WordNetLemmatizer()\n",
    "bigram = Phrases(data)\n",
    "\n",
    "for sent in range(len(data)):\n",
    "    data[sent] = nltk.pos_tag(data[sent])\n",
    "    data[sent] = simplify_pos_tag(data[sent])\n",
    "    for word in range(len(data[sent])):\n",
    "        data[sent][word] = lemmatizer.lemmatize(*data[sent][word])\n",
    "    data[sent] = bigram[data[sent]]"
   ]
  },
  {
   "cell_type": "code",
   "execution_count": null,
   "id": "9ede4819",
   "metadata": {},
   "outputs": [],
   "source": []
  },
  {
   "cell_type": "markdown",
   "id": "173fe5da",
   "metadata": {},
   "source": [
    "# Models learning"
   ]
  },
  {
   "cell_type": "code",
   "execution_count": 7,
   "id": "f5c360b2",
   "metadata": {},
   "outputs": [],
   "source": [
    "from gensim.corpora import Dictionary\n",
    "dictionary = Dictionary(data)\n",
    "corpus = [dictionary.doc2bow(text) for text in data]"
   ]
  },
  {
   "cell_type": "markdown",
   "id": "aed8ac45",
   "metadata": {},
   "source": [
    "For evaluation I will use Topic Coherence (namely, C_v)"
   ]
  },
  {
   "cell_type": "code",
   "execution_count": 8,
   "id": "a4839afa",
   "metadata": {},
   "outputs": [],
   "source": [
    "from gensim.models import CoherenceModel\n",
    "import numpy as np\n",
    "def compute_coherence(trained_model, texts, dictionar):\n",
    "    cml = CoherenceModel(model=ldamodel, texts=texts, dictionary=dictionar, coherence='c_v')\n",
    "    cur_val = cml.get_coherence()\n",
    "    return cml, cur_val"
   ]
  },
  {
   "cell_type": "markdown",
   "id": "7d8683ef",
   "metadata": {},
   "source": [
    "First of all lets train LDA with standart hyperparameters and see the result:"
   ]
  },
  {
   "cell_type": "code",
   "execution_count": 10,
   "id": "88a5b654",
   "metadata": {},
   "outputs": [
    {
     "name": "stdout",
     "output_type": "stream",
     "text": [
      "0.36842639812014377\n"
     ]
    }
   ],
   "source": [
    "ldamodel = LdaModel(corpus=corpus, id2word=dictionary)\n",
    "cml_model, coherence_lda  = compute_coherence(ldamodel, data, dictionary)\n",
    "print(coherence_lda)"
   ]
  },
  {
   "cell_type": "markdown",
   "id": "368aa272",
   "metadata": {},
   "source": [
    "Now I will try to compute best values for hyperparameters  n_topics, alpha and beta (other parameters will be standart: chunksize=2000, passes=1, iterations=50)"
   ]
  },
  {
   "cell_type": "code",
   "execution_count": 19,
   "id": "76dcd2e5",
   "metadata": {},
   "outputs": [],
   "source": [
    "results = []\n",
    "alpha = list(np.arange(0.01, 1, 0.4))\n",
    "alpha.append('symmetric')\n",
    "alpha.append('asymmetric')\n",
    "beta = list(np.arange(0.01, 1, 0.4))\n",
    "beta.append('symmetric')\n",
    "\n",
    "params_1 = {'num_topics': [2, 4, 6, 8, 10],\n",
    "              'eval_every': [None]\n",
    "         }\n",
    "for num_topics in params_1['num_topics']:\n",
    "    for a in alpha:\n",
    "        for b in beta:\n",
    "            for eval_every in params_1['eval_every']:\n",
    "                    ldamodel = LdaModel(corpus=corpus, num_topics=num_topics, \n",
    "                                        id2word=dictionary, alpha=a, eta=b,\n",
    "                                        eval_every=eval_every)\n",
    "                    cml_model, coherence_lda = compute_coherence(ldamodel, data, dictionary)\n",
    "                    results.append([num_topics, a, b, coherence_lda])"
   ]
  },
  {
   "cell_type": "code",
   "execution_count": 20,
   "id": "0d0799b9",
   "metadata": {},
   "outputs": [],
   "source": [
    "import pandas as pd\n",
    "results = sorted(results, key=lambda x: x[3], reverse=True)\n",
    "frame = pd.DataFrame(data=results, columns=['n_topics', 'alpha', 'beta', 'coherence'])\n",
    "frame.to_excel('LDA_n_top_ab.xlsx')"
   ]
  },
  {
   "attachments": {
    "image-2.png": {
     "image/png": "[encoded data removed]"
    }
   },
   "cell_type": "markdown",
   "id": "31d0e84c",
   "metadata": {},
   "source": [
    "![image-2.png](attachment:image-2.png)\n",
    "Full list of results is available in LDA_n_top_ab.xlsx\n",
    "\n",
    "As we can see, the result is not even close to the one we are looking for. On standart parameters we had topic coherence 0.368, and after these computations the best that we have is 0.375. \n",
    "\n",
    "Now I will go over parameters chunksize, passes, eval_every. Since these hyperparameters will consume more computational power for a better prediction, consider the running time as well as the memory spent on the calculation, so that the selected parameters are optimal"
   ]
  },
  {
   "cell_type": "code",
   "execution_count": 22,
   "id": "e4be1073",
   "metadata": {},
   "outputs": [],
   "source": [
    "import tracemalloc\n",
    "from time import time"
   ]
  },
  {
   "cell_type": "code",
   "execution_count": 22,
   "id": "d56faac5",
   "metadata": {
    "scrolled": true
   },
   "outputs": [],
   "source": [
    "results_1 = []\n",
    "for ee in range(5):\n",
    "    for chunk in [500, 1000]:\n",
    "        for p in [2, 5, 10, 15]:\n",
    "            s = time()\n",
    "            tracemalloc.start()\n",
    "            \n",
    "            ldamodel = LdaModel(corpus=corpus,\n",
    "                id2word=dictionary, chunksize=chunk, \n",
    "                passes=p, eval_every=ee)\n",
    "            \n",
    "            curr, peak = tracemalloc.get_traced_memory()\n",
    "            mem_usage_MB = (peak - curr) / 2 ** 20\n",
    "            time_spent_min = (time() - s) / 60\n",
    "            tracemalloc.reset_peak()\n",
    "            \n",
    "            cml_model, coherence_lda = compute_coherence(ldamodel, data, dictionary)\n",
    "            results_1.append([ee, chunk, p, time_spent_min, mem_usage_MB, coherence_lda])"
   ]
  },
  {
   "cell_type": "code",
   "execution_count": 23,
   "id": "343a8b99",
   "metadata": {},
   "outputs": [],
   "source": [
    "results_1 = sorted(results_1, key=lambda x: x[5], reverse=True)\n",
    "frame = pd.DataFrame(data=results_1, columns=['eval_every', 'chunksize', 'passes', 'time (min)', 'memory (MB)', 'coherence'])\n",
    "frame.to_excel('LDA_ee_c_p.xlsx')"
   ]
  },
  {
   "cell_type": "code",
   "execution_count": 9,
   "id": "005ac98b",
   "metadata": {},
   "outputs": [
    {
     "data": {
      "text/html": [
       "<div>\n",
       "<style scoped>\n",
       "    .dataframe tbody tr th:only-of-type {\n",
       "        vertical-align: middle;\n",
       "    }\n",
       "\n",
       "    .dataframe tbody tr th {\n",
       "        vertical-align: top;\n",
       "    }\n",
       "\n",
       "    .dataframe thead th {\n",
       "        text-align: right;\n",
       "    }\n",
       "</style>\n",
       "<table border=\"1\" class=\"dataframe\">\n",
       "  <thead>\n",
       "    <tr style=\"text-align: right;\">\n",
       "      <th></th>\n",
       "      <th>eval_every</th>\n",
       "      <th>chunksize</th>\n",
       "      <th>passes</th>\n",
       "      <th>time (min)</th>\n",
       "      <th>memory (MB)</th>\n",
       "      <th>coherence</th>\n",
       "    </tr>\n",
       "  </thead>\n",
       "  <tbody>\n",
       "    <tr>\n",
       "      <th>0</th>\n",
       "      <td>2</td>\n",
       "      <td>1000</td>\n",
       "      <td>15</td>\n",
       "      <td>9.193106</td>\n",
       "      <td>233.511782</td>\n",
       "      <td>0.458809</td>\n",
       "    </tr>\n",
       "    <tr>\n",
       "      <th>1</th>\n",
       "      <td>1</td>\n",
       "      <td>1000</td>\n",
       "      <td>15</td>\n",
       "      <td>11.920196</td>\n",
       "      <td>225.414974</td>\n",
       "      <td>0.453339</td>\n",
       "    </tr>\n",
       "    <tr>\n",
       "      <th>2</th>\n",
       "      <td>4</td>\n",
       "      <td>1000</td>\n",
       "      <td>10</td>\n",
       "      <td>5.724434</td>\n",
       "      <td>223.655816</td>\n",
       "      <td>0.451113</td>\n",
       "    </tr>\n",
       "    <tr>\n",
       "      <th>3</th>\n",
       "      <td>4</td>\n",
       "      <td>1000</td>\n",
       "      <td>15</td>\n",
       "      <td>8.524152</td>\n",
       "      <td>236.260625</td>\n",
       "      <td>0.446750</td>\n",
       "    </tr>\n",
       "    <tr>\n",
       "      <th>4</th>\n",
       "      <td>0</td>\n",
       "      <td>1000</td>\n",
       "      <td>15</td>\n",
       "      <td>4.950586</td>\n",
       "      <td>223.479608</td>\n",
       "      <td>0.445859</td>\n",
       "    </tr>\n",
       "    <tr>\n",
       "      <th>5</th>\n",
       "      <td>3</td>\n",
       "      <td>1000</td>\n",
       "      <td>15</td>\n",
       "      <td>8.382650</td>\n",
       "      <td>223.993709</td>\n",
       "      <td>0.444616</td>\n",
       "    </tr>\n",
       "    <tr>\n",
       "      <th>6</th>\n",
       "      <td>0</td>\n",
       "      <td>1000</td>\n",
       "      <td>10</td>\n",
       "      <td>3.820770</td>\n",
       "      <td>235.982119</td>\n",
       "      <td>0.442640</td>\n",
       "    </tr>\n",
       "    <tr>\n",
       "      <th>7</th>\n",
       "      <td>1</td>\n",
       "      <td>1000</td>\n",
       "      <td>10</td>\n",
       "      <td>8.531108</td>\n",
       "      <td>224.247204</td>\n",
       "      <td>0.438205</td>\n",
       "    </tr>\n",
       "    <tr>\n",
       "      <th>8</th>\n",
       "      <td>3</td>\n",
       "      <td>1000</td>\n",
       "      <td>10</td>\n",
       "      <td>5.461612</td>\n",
       "      <td>224.689418</td>\n",
       "      <td>0.431267</td>\n",
       "    </tr>\n",
       "    <tr>\n",
       "      <th>9</th>\n",
       "      <td>4</td>\n",
       "      <td>1000</td>\n",
       "      <td>5</td>\n",
       "      <td>3.400053</td>\n",
       "      <td>224.093704</td>\n",
       "      <td>0.431173</td>\n",
       "    </tr>\n",
       "  </tbody>\n",
       "</table>\n",
       "</div>"
      ],
      "text/plain": [
       "   eval_every  chunksize  passes  time (min)  memory (MB)  coherence\n",
       "0           2       1000      15    9.193106   233.511782   0.458809\n",
       "1           1       1000      15   11.920196   225.414974   0.453339\n",
       "2           4       1000      10    5.724434   223.655816   0.451113\n",
       "3           4       1000      15    8.524152   236.260625   0.446750\n",
       "4           0       1000      15    4.950586   223.479608   0.445859\n",
       "5           3       1000      15    8.382650   223.993709   0.444616\n",
       "6           0       1000      10    3.820770   235.982119   0.442640\n",
       "7           1       1000      10    8.531108   224.247204   0.438205\n",
       "8           3       1000      10    5.461612   224.689418   0.431267\n",
       "9           4       1000       5    3.400053   224.093704   0.431173"
      ]
     },
     "execution_count": 9,
     "metadata": {},
     "output_type": "execute_result"
    }
   ],
   "source": [
    "exp_data = pd.read_excel('LDA_ee_c_p.xlsx')\n",
    "exp_data.drop('Unnamed: 0', axis=1, inplace=True)\n",
    "exp_data.head(10)"
   ]
  },
  {
   "cell_type": "markdown",
   "id": "31d18f46",
   "metadata": {},
   "source": [
    "There is a significant increase in running time and memory, but also in coherence. Let's look at the graph and try to choose good parameters\n"
   ]
  },
  {
   "cell_type": "code",
   "execution_count": 14,
   "id": "f467e8e8",
   "metadata": {},
   "outputs": [
    {
     "data": {
      "image/png": "[encoded data removed]",
      "text/plain": [
       "<Figure size 1000x500 with 1 Axes>"
      ]
     },
     "metadata": {},
     "output_type": "display_data"
    }
   ],
   "source": [
    "import matplotlib.pyplot as plt\n",
    "color = ['g' if i > 0.43 else 'r' for i in exp_data['coherence']]\n",
    "plt.figure(figsize=(10, 5))\n",
    "plt.scatter(exp_data['memory (MB)'], exp_data['time (min)'], c=color)\n",
    "plt.title('Green have coherence > 0.43')\n",
    "plt.xlabel('Memory (MB)')\n",
    "plt.ylabel('Time (min)')\n",
    "plt.show()"
   ]
  },
  {
   "cell_type": "markdown",
   "id": "f6943e21",
   "metadata": {},
   "source": [
    "Easy to notice that the best models consume less memory than others. So let's have a look at models that spent less than 225MB:"
   ]
  },
  {
   "cell_type": "code",
   "execution_count": 19,
   "id": "e7e0c2a6",
   "metadata": {},
   "outputs": [
    {
     "data": {
      "text/html": [
       "<div>\n",
       "<style scoped>\n",
       "    .dataframe tbody tr th:only-of-type {\n",
       "        vertical-align: middle;\n",
       "    }\n",
       "\n",
       "    .dataframe tbody tr th {\n",
       "        vertical-align: top;\n",
       "    }\n",
       "\n",
       "    .dataframe thead th {\n",
       "        text-align: right;\n",
       "    }\n",
       "</style>\n",
       "<table border=\"1\" class=\"dataframe\">\n",
       "  <thead>\n",
       "    <tr style=\"text-align: right;\">\n",
       "      <th></th>\n",
       "      <th>eval_every</th>\n",
       "      <th>chunksize</th>\n",
       "      <th>passes</th>\n",
       "      <th>time (min)</th>\n",
       "      <th>memory (MB)</th>\n",
       "      <th>coherence</th>\n",
       "    </tr>\n",
       "  </thead>\n",
       "  <tbody>\n",
       "    <tr>\n",
       "      <th>2</th>\n",
       "      <td>4</td>\n",
       "      <td>1000</td>\n",
       "      <td>10</td>\n",
       "      <td>5.724434</td>\n",
       "      <td>223.655816</td>\n",
       "      <td>0.451113</td>\n",
       "    </tr>\n",
       "    <tr>\n",
       "      <th>4</th>\n",
       "      <td>0</td>\n",
       "      <td>1000</td>\n",
       "      <td>15</td>\n",
       "      <td>4.950586</td>\n",
       "      <td>223.479608</td>\n",
       "      <td>0.445859</td>\n",
       "    </tr>\n",
       "    <tr>\n",
       "      <th>5</th>\n",
       "      <td>3</td>\n",
       "      <td>1000</td>\n",
       "      <td>15</td>\n",
       "      <td>8.382650</td>\n",
       "      <td>223.993709</td>\n",
       "      <td>0.444616</td>\n",
       "    </tr>\n",
       "    <tr>\n",
       "      <th>7</th>\n",
       "      <td>1</td>\n",
       "      <td>1000</td>\n",
       "      <td>10</td>\n",
       "      <td>8.531108</td>\n",
       "      <td>224.247204</td>\n",
       "      <td>0.438205</td>\n",
       "    </tr>\n",
       "    <tr>\n",
       "      <th>8</th>\n",
       "      <td>3</td>\n",
       "      <td>1000</td>\n",
       "      <td>10</td>\n",
       "      <td>5.461612</td>\n",
       "      <td>224.689418</td>\n",
       "      <td>0.431267</td>\n",
       "    </tr>\n",
       "    <tr>\n",
       "      <th>9</th>\n",
       "      <td>4</td>\n",
       "      <td>1000</td>\n",
       "      <td>5</td>\n",
       "      <td>3.400053</td>\n",
       "      <td>224.093704</td>\n",
       "      <td>0.431173</td>\n",
       "    </tr>\n",
       "  </tbody>\n",
       "</table>\n",
       "</div>"
      ],
      "text/plain": [
       "   eval_every  chunksize  passes  time (min)  memory (MB)  coherence\n",
       "2           4       1000      10    5.724434   223.655816   0.451113\n",
       "4           0       1000      15    4.950586   223.479608   0.445859\n",
       "5           3       1000      15    8.382650   223.993709   0.444616\n",
       "7           1       1000      10    8.531108   224.247204   0.438205\n",
       "8           3       1000      10    5.461612   224.689418   0.431267\n",
       "9           4       1000       5    3.400053   224.093704   0.431173"
      ]
     },
     "execution_count": 19,
     "metadata": {},
     "output_type": "execute_result"
    }
   ],
   "source": [
    "exp_data.loc[(exp_data['memory (MB)'] <= 225) & (exp_data['coherence'] > 0.43)]"
   ]
  },
  {
   "cell_type": "markdown",
   "id": "7790096a",
   "metadata": {},
   "source": [
    "Here I will choose optimal values for eval_every, chunksize, passes - 4, 1000, 10 respectively. Because the model with these parameters is average in terms of speed, in terms of memory consumption is in 2nd place (considering that space is higher the lower the memory consumption), and its accuracy is superior to all others."
   ]
  },
  {
   "cell_type": "markdown",
   "id": "ebbed408",
   "metadata": {},
   "source": [
    "Let's see if we can now improve this model with the hyperparameters n_topics, alpha, beta. Since the standard value of n_topics = 100, I will take values much smaller to reduce running time and memory consumption. Moreover, I don't need so many topics from the texts"
   ]
  },
  {
   "cell_type": "code",
   "execution_count": 23,
   "id": "410466be",
   "metadata": {},
   "outputs": [],
   "source": [
    "results = []\n",
    "alpha = list(np.arange(0.01, 1, 0.4))\n",
    "alpha.append('symmetric')\n",
    "alpha.append('asymmetric')\n",
    "beta = list(np.arange(0.01, 1, 0.4))\n",
    "beta.append('symmetric')\n",
    "\n",
    "for num_topics in [2, 4, 6, 8, 10]:\n",
    "    for a in alpha:\n",
    "        for b in beta:\n",
    "            s = time()\n",
    "            tracemalloc.start()\n",
    "            \n",
    "            ldamodel = LdaModel(corpus=corpus, id2word=dictionary,\n",
    "                                num_topics=num_topics, alpha=a, eta=b,\n",
    "                                chunksize=1000,  passes=10, eval_every=4)\n",
    "            \n",
    "            curr, peak = tracemalloc.get_traced_memory()\n",
    "            mem_usage_MB = (peak - curr) / 2 ** 20\n",
    "            time_spent_min = (time() - s) / 60\n",
    "\n",
    "            cml_model, coherence_lda = compute_coherence(ldamodel, data, dictionary)\n",
    "            results.append([num_topics, a, b, time_spent_min, mem_usage_MB, coherence_lda])"
   ]
  },
  {
   "cell_type": "code",
   "execution_count": 24,
   "id": "707d1caf",
   "metadata": {},
   "outputs": [],
   "source": [
    "results = sorted(results, key=lambda x: x[5], reverse=True)\n",
    "frame = pd.DataFrame(data=results, columns=['num_topics', 'alpha', 'beta', 'time (min)', 'memory (MB)', 'coherence'])\n",
    "frame.to_excel('LDA_finale.xlsx')"
   ]
  },
  {
   "cell_type": "code",
   "execution_count": 25,
   "id": "6d896e8f",
   "metadata": {},
   "outputs": [
    {
     "data": {
      "text/html": [
       "<div>\n",
       "<style scoped>\n",
       "    .dataframe tbody tr th:only-of-type {\n",
       "        vertical-align: middle;\n",
       "    }\n",
       "\n",
       "    .dataframe tbody tr th {\n",
       "        vertical-align: top;\n",
       "    }\n",
       "\n",
       "    .dataframe thead th {\n",
       "        text-align: right;\n",
       "    }\n",
       "</style>\n",
       "<table border=\"1\" class=\"dataframe\">\n",
       "  <thead>\n",
       "    <tr style=\"text-align: right;\">\n",
       "      <th></th>\n",
       "      <th>num_topics</th>\n",
       "      <th>alpha</th>\n",
       "      <th>beta</th>\n",
       "      <th>time (min)</th>\n",
       "      <th>memory (MB)</th>\n",
       "      <th>coherence</th>\n",
       "    </tr>\n",
       "  </thead>\n",
       "  <tbody>\n",
       "    <tr>\n",
       "      <th>0</th>\n",
       "      <td>8</td>\n",
       "      <td>symmetric</td>\n",
       "      <td>0.41</td>\n",
       "      <td>2.864762</td>\n",
       "      <td>79.013282</td>\n",
       "      <td>0.391089</td>\n",
       "    </tr>\n",
       "    <tr>\n",
       "      <th>1</th>\n",
       "      <td>4</td>\n",
       "      <td>asymmetric</td>\n",
       "      <td>0.01</td>\n",
       "      <td>2.069602</td>\n",
       "      <td>76.512909</td>\n",
       "      <td>0.372227</td>\n",
       "    </tr>\n",
       "    <tr>\n",
       "      <th>2</th>\n",
       "      <td>10</td>\n",
       "      <td>symmetric</td>\n",
       "      <td>0.01</td>\n",
       "      <td>2.177057</td>\n",
       "      <td>80.259904</td>\n",
       "      <td>0.369858</td>\n",
       "    </tr>\n",
       "    <tr>\n",
       "      <th>3</th>\n",
       "      <td>10</td>\n",
       "      <td>0.01</td>\n",
       "      <td>symmetric</td>\n",
       "      <td>2.069789</td>\n",
       "      <td>79.505193</td>\n",
       "      <td>0.366188</td>\n",
       "    </tr>\n",
       "    <tr>\n",
       "      <th>4</th>\n",
       "      <td>10</td>\n",
       "      <td>0.01</td>\n",
       "      <td>0.81</td>\n",
       "      <td>2.019345</td>\n",
       "      <td>79.517884</td>\n",
       "      <td>0.362390</td>\n",
       "    </tr>\n",
       "    <tr>\n",
       "      <th>5</th>\n",
       "      <td>10</td>\n",
       "      <td>symmetric</td>\n",
       "      <td>symmetric</td>\n",
       "      <td>1.923024</td>\n",
       "      <td>80.235443</td>\n",
       "      <td>0.360114</td>\n",
       "    </tr>\n",
       "    <tr>\n",
       "      <th>6</th>\n",
       "      <td>8</td>\n",
       "      <td>0.81</td>\n",
       "      <td>0.81</td>\n",
       "      <td>3.331784</td>\n",
       "      <td>78.916610</td>\n",
       "      <td>0.359997</td>\n",
       "    </tr>\n",
       "    <tr>\n",
       "      <th>7</th>\n",
       "      <td>8</td>\n",
       "      <td>0.41</td>\n",
       "      <td>symmetric</td>\n",
       "      <td>1.982722</td>\n",
       "      <td>78.748049</td>\n",
       "      <td>0.359829</td>\n",
       "    </tr>\n",
       "    <tr>\n",
       "      <th>8</th>\n",
       "      <td>6</td>\n",
       "      <td>asymmetric</td>\n",
       "      <td>0.81</td>\n",
       "      <td>1.837067</td>\n",
       "      <td>77.326608</td>\n",
       "      <td>0.359681</td>\n",
       "    </tr>\n",
       "    <tr>\n",
       "      <th>9</th>\n",
       "      <td>6</td>\n",
       "      <td>0.41</td>\n",
       "      <td>0.81</td>\n",
       "      <td>1.902210</td>\n",
       "      <td>77.116740</td>\n",
       "      <td>0.358897</td>\n",
       "    </tr>\n",
       "  </tbody>\n",
       "</table>\n",
       "</div>"
      ],
      "text/plain": [
       "   num_topics       alpha       beta  time (min)  memory (MB)  coherence\n",
       "0           8   symmetric       0.41    2.864762    79.013282   0.391089\n",
       "1           4  asymmetric       0.01    2.069602    76.512909   0.372227\n",
       "2          10   symmetric       0.01    2.177057    80.259904   0.369858\n",
       "3          10        0.01  symmetric    2.069789    79.505193   0.366188\n",
       "4          10        0.01       0.81    2.019345    79.517884   0.362390\n",
       "5          10   symmetric  symmetric    1.923024    80.235443   0.360114\n",
       "6           8        0.81       0.81    3.331784    78.916610   0.359997\n",
       "7           8        0.41  symmetric    1.982722    78.748049   0.359829\n",
       "8           6  asymmetric       0.81    1.837067    77.326608   0.359681\n",
       "9           6        0.41       0.81    1.902210    77.116740   0.358897"
      ]
     },
     "execution_count": 25,
     "metadata": {},
     "output_type": "execute_result"
    }
   ],
   "source": [
    "frame.head(10)"
   ]
  },
  {
   "cell_type": "markdown",
   "id": "42005061",
   "metadata": {},
   "source": [
    "Coherence worsened, but memory and time consumption decreased greatly. This is understandable, since the final coherence is counted as an average between all topics, and for each topic it is calculated based on the consistency of words in one topic with each other. Thus, the more topics the model calculates, the more likely it is that there will be more well matched topics among them.\n",
    "\n",
    "In this work it was decided to choose the final parameters:\n",
    "\n",
    "- num_topics = 8 \n",
    "- alpha = symmetric \n",
    "- beta = 0.41 \n",
    "- chunksize = 1000 \n",
    "- passes = 10 \n",
    "- eval_every = 4\n",
    "\n",
    "Although topic coherence decreased by 0.06, we were able to reduce training time from 5.7 minutes to 2.8 minutes and memory cost from 223.65 MB to 79 MB."
   ]
  },
  {
   "cell_type": "code",
   "execution_count": 26,
   "id": "bc618a74",
   "metadata": {},
   "outputs": [],
   "source": [
    "model = ldamodel = LdaModel(corpus=corpus, id2word=dictionary, num_topics=8, \n",
    "                            alpha='symmetric', eta=0.41, chunksize=1000, \n",
    "                            passes=10, eval_every=4)"
   ]
  },
  {
   "cell_type": "code",
   "execution_count": 27,
   "id": "29e81953",
   "metadata": {
    "scrolled": true
   },
   "outputs": [
    {
     "data": {
      "text/plain": [
       "[(0,\n",
       "  '0.025*\"say\" + 0.010*\"government\" + 0.008*\"rate\" + 0.008*\"uk\" + 0.008*\"tax\" + 0.008*\"rise\" + 0.008*\"also\" + 0.008*\"year\" + 0.007*\"people\" + 0.007*\"high\"'),\n",
       " (1,\n",
       "  '0.033*\"say\" + 0.007*\"make\" + 0.006*\"also\" + 0.006*\"government\" + 0.005*\"new\" + 0.005*\"year\" + 0.005*\"people\" + 0.005*\"soldier\" + 0.005*\"ukraine\" + 0.004*\"home\"'),\n",
       " (2,\n",
       "  '0.027*\"say\" + 0.008*\"year\" + 0.006*\"climate_change\" + 0.006*\"uk\" + 0.006*\"find\" + 0.006*\"specie\" + 0.005*\"people\" + 0.005*\"see\" + 0.005*\"add\" + 0.005*\"work\"'),\n",
       " (3,\n",
       "  '0.015*\"say\" + 0.008*\"year\" + 0.005*\"country\" + 0.004*\"also\" + 0.003*\"take\" + 0.003*\"group\" + 0.003*\"election\" + 0.003*\"make\" + 0.003*\"become\" + 0.003*\"fossil_fuel\"'),\n",
       " (4,\n",
       "  '0.021*\"say\" + 0.005*\"company\" + 0.005*\"people\" + 0.004*\"also\" + 0.004*\"year\" + 0.004*\"make\" + 0.004*\"take\" + 0.004*\"use\" + 0.004*\"time\" + 0.004*\"work\"'),\n",
       " (5,\n",
       "  '0.019*\"year\" + 0.015*\"say\" + 0.014*\"uk\" + 0.012*\"record\" + 0.009*\"high\" + 0.009*\"also\" + 0.008*\"tree\" + 0.008*\"temperature\" + 0.006*\"meet\" + 0.006*\"last_year\"'),\n",
       " (6,\n",
       "  '0.013*\"resort\" + 0.009*\"say\" + 0.007*\"new\" + 0.007*\"sport\" + 0.006*\"warn\" + 0.006*\"sell\" + 0.005*\"year\" + 0.005*\"resident\" + 0.005*\"many\" + 0.005*\"slope\"'),\n",
       " (7,\n",
       "  '0.023*\"say\" + 0.007*\"use\" + 0.006*\"company\" + 0.006*\"crack\" + 0.006*\"china\" + 0.005*\"also\" + 0.005*\"house\" + 0.005*\"official\" + 0.005*\"resident\" + 0.005*\"start\"')]"
      ]
     },
     "execution_count": 27,
     "metadata": {},
     "output_type": "execute_result"
    }
   ],
   "source": [
    "model.show_topics()"
   ]
  },
  {
   "cell_type": "code",
   "execution_count": 32,
   "id": "49d22ae7",
   "metadata": {
    "scrolled": true
   },
   "outputs": [
    {
     "data": {
      "text/plain": [
       "'More money is needed for flood prevention in order to prevent further devastation and cut clean-up costs, a council leader has said. Wales has been hit by disruption following days of continued heavy rain. Several flood warnings have been put in place and a weather warning for rain is in place until noon on Saturday. Andrew Morgan, leader of Rhondda Cynon Taf council, said \"sustained investment\" was needed as responding to flooding \"drains\" councils\\' resources. The weather warnings cover the whole of Wales, while flood warnings are in effect in south and mid Wales. Flooding has led to between Cardiff and Bridgend county on Saturday, Transport for Wales said. Storms cause flooding, power cuts and train delays\\nClear-up under way but more rain forecast Traffic Wales said the A470 between Llangurig to Rhayader in Powys had been closed due to flooding. On Thursday, homes lost power, people were rescued from cars and properties were damaged after persistent rain. Mr Morgan, who is also head of the Welsh Local Government Association (WLGA), said although work done in the past few years had been successful there was \"an awful lot\" of culverts that need improvement. \"Over 20 properties were flooded unfortunately, through either culverts being overwhelmed because of the volume of water, because of debris washed off the mountain. So it goes to show, we still need to do that investment,\" he said. \"Climate change is happening and we\\'re seeing floods more frequently. But in particular, the intensity of the weather is really changing.\" Although Rhondda Cynon Taf (RCT) was one of the worst hit areas, much of Wales experienced heavy rain. Mr Morgan said the clean up was \"relatively small\" on this occasion, with 26 homes in his area affected. \"It will probably be tens of thousands [of pounds worth of damage],\" he said. \"What we\\'ve had to do is redirect a lot of our contractors and our highway staff who would have been working on other things. So staff yesterday, who should have been filling potholes, or should be carrying out new footway schemes or resurfacing roads.\" He said the first thought during a serious flooding event is to respond to the emergency situation, but the fact this meant less funding available for other important services was a \"concern\". Mr Morgan said that, although more than £14m had been spent on infrastructure upgrades in RCT since Storm Dennis in 2020, £20m has been spent on storm repairs over the same time period. He said more than £6.4m of Welsh government funding was secured for RCT after Storm Dennis, plus about £3.9m for flood alleviation works. The council has also secured more than £8m from the Resilient Roads Grant over the past three years for targeted flood works. Mr Morgan said pre-emptive investment was \"vital\", adding: \"What we don\\'t want to do is be sending crews to clean up the mess. \"What we need to do is flip the money and spend more on the preventative and the upgrading. It can\\'t be about a short-term fix.\" Mike Evans, of Natural Resources Wales, said climate change was \"no longer a matter of argument... it\\'s happening\". \"We had the biggest floods we\\'ve ever experienced during 2020. 2022 has been the hottest year on record and it was also the biggest drought in Wales,\" Mr Evans said. \"The storms we\\'re having are more frequent and they\\'re bigger. So we\\'re going to get more frequent flooding and we\\'re going to have to cope with it because we can\\'t be expected to build higher and higher flood defences. \"We will build defences to protect people at the highest risk. But as climate change increases it\\'s practically impossible for funding and the interventions to keep up with the increased risk.\" The WLGA said the past decade had seen \"unprecedented weather extremes\" which had put \"enormous strain on our communities, services, and infrastructure\". It said: \"The resources implications on local government and partner organisations are huge, not only before and during an event but for many months afterwards. \"There is no doubt that future budget squeeze will likely put more pressure on technical services which are already stretched to the limit. \"It is important to note that keeping pace with climate change would require huge amount of funding which in itself is not sustainable. \"As a collective we are therefore looking at new ways of building resilience and adapting to these impacts.\" The Welsh government said it had invested more than £390m in flood and coastal erosion risk management through two programmes, reducing the risks faced by more than 47,000 properties across Wales. It added that a further £71m is being spent on such works across Wales this financial year, through local authorities and Natural Resources Wales. '"
      ]
     },
     "execution_count": 32,
     "metadata": {},
     "output_type": "execute_result"
    }
   ],
   "source": [
    "check_data = load_data('data_bbc.json')\n",
    "check_data[0]"
   ]
  },
  {
   "cell_type": "code",
   "execution_count": 29,
   "id": "82571071",
   "metadata": {},
   "outputs": [
    {
     "name": "stdout",
     "output_type": "stream",
     "text": [
      "[(0, 0.02662163), (4, 0.8072019), (5, 0.16458027)]\n"
     ]
    }
   ],
   "source": [
    "print(model.get_document_topics(corpus[0]))"
   ]
  },
  {
   "cell_type": "markdown",
   "id": "d3cd1884",
   "metadata": {},
   "source": [
    "The model mostly refers the first article to topic 4. In general, this topic looks the most uninformative of all, because it contains mostly common words like 'say', 'take', 'make', 'also', 'use', so it is difficult for a person to assess the quality of such prediction. Let's try it on other articles:"
   ]
  },
  {
   "cell_type": "code",
   "execution_count": 45,
   "id": "47e73ed6",
   "metadata": {},
   "outputs": [
    {
     "name": "stdout",
     "output_type": "stream",
     "text": [
      "[(4, 0.9979339)]\n",
      "[(4, 0.9353376), (0, 0.06286784)]\n",
      "[(4, 0.62693346), (7, 0.29621458), (5, 0.07488946)]\n",
      "[(5, 0.49836323), (4, 0.47947502)]\n",
      "[(4, 0.9810245), (6, 0.016922396)]\n",
      "[(4, 0.6773992), (7, 0.24611217), (5, 0.07364751)]\n",
      "[(3, 0.997794)]\n",
      "[(2, 0.9979249)]\n",
      "[(3, 0.9958884)]\n"
     ]
    }
   ],
   "source": [
    "for i in range(1, 10):\n",
    "    print(sorted(model.get_document_topics(corpus[i]), key=lambda x: x[1], reverse=True))"
   ]
  },
  {
   "cell_type": "code",
   "execution_count": 46,
   "id": "301f2bbd",
   "metadata": {
    "scrolled": true
   },
   "outputs": [
    {
     "data": {
      "text/plain": [
       "'Major beauty brands Urban Decay, Revolution and Inglot are selling make-up in the UK containing \"forever chemicals\", BBC News has found. These pollutants - known as PFAS - have been linked to serious health concerns including cancer. They are not illegal in the UK but five European countries are expected to propose an EU-wide ban on Friday. Urban Decay\\'s owner L\\'Oréal, Revolution and Inglot told the BBC they were phasing out the chemicals. PFAS, which stands for poly- and perfluoroalkyl substances, are resistant to oil and water, making them highly valuable to the make-up industry. Historically they have been added to products to make them last longer, improve finish and preserve the colour of eyeshadows and lipsticks. Many brands are now \"PFAS-free\" because of the increasing evidence of the negative environmental and health impacts from these compounds. But a BBC News investigation into the UK cosmetics market has identified dozens of products being sold in the UK still containing these toxic chemicals. High levels of exposure have been associated with cancer, birth defects and thyroid issues. Research remains ongoing to determine the impacts from lower levels of exposure - such as in make-up - but scientists and politicians are concerned even at these levels because PFAS can build up in the environment. These substances contain strong bonds which cannot be broken down naturally, so as more products are used and disposed of e.g. by washing make-up off, PFAS begin to accumulate in rivers, soil and have even been detected in human blood. Studies exposing animals in labs to PFAS found they caused birth defects, damaged livers and newborn deaths. Most of these studies have so far tested doses at higher levels than those usually found in the environment. Prof. Miriam Diamond, an environmental chemist at Toronto University, whose lab has previously looked at contamination in US cosmetics, told the BBC that consumers should be concerned about low-level contamination in products because of the limited information on the long-term toxic effects. On Friday, Germany, along with four other European nations, will submit a proposal to the EU to ban the manufacture and use of PFAS over concerns about its accumulation and exposure of humans. This potential risk led the Environment Agency (EA) to conduct a review into PFAS use in the UK in 2021. During that review, the EA asked the industry body for cosmetics, the CTPA, to tell it which PFAS compounds were still being used in the UK cosmetic industry and by which companies. The CTPA told the EA that nine PFAS were in use but declined to share the company names for \"commercial reasons\". The EA did not publish the names of the nine PFAS still in use by the industry in its final report. But a Freedom of Information request by BBC News into the EA has now revealed them. The BBC searched for them in thousands of ingredient lists of the most popular UK brands and common product types known to use PFAS: mascara, eyeshadow, foundation, and lipsticks. Products produced by Revolution, Inglot and Urban Decay - which is a subsidiary of L\\'Oréal - were found to contain PFAS called PTFE and Polyperfluoromethylisopropyl Ether. They were being sold across multiple outlets as well as their own websites. Examples of products included: Relove High Key Shadow Palette\\nRevolution Power Shadow Palette 90\\'S Baby\\nI Heart Revolution Mini Match Palette Fried Egg Fred\\nUrban Decay NAKED Palettes 2\\nUrban Decay NAKED Palettes 3\\nUrban Decay Smoked Palette\\nInglot X Maura Beautiful Storm Eyeshadow Palette\\nInglot Evening Kiss Eyeshadow Palette\\nInglot Complexion Perfection Essentials Palette Deep Although PFAS use remains legal in the UK the Health and Safety Executive is now due to publish an assessment for the government of the health risks of PFAS. This follows the EA review and would be the first step in regulating the chemicals. A group of more than 30 NGOs are now calling on the government to introduce a complete ban on non-essential use in the UK, following in the footsteps of the EU proposal and action by US states such as California. Dr Francesca Bevan, chemicals policy manager at the Marine Conservation Society, which is part of the group of NGOs, said they want regulation because water treatment processes aren\\'t currently effective at removing PFAS from wastewater, meaning they get released into our rivers. She said: \"Some PFAS have already been linked to health impacts in marine animals such as reduced immune, liver, blood and kidney function in bottlenose dolphins or thyroid hormone disruption in marine birds, and it\\'s likely only a matter of time for other health impacts to be recognised.\" Industry body the CTPA declined to be interviewed by the BBC on this issue but said in a statement: \"The cosmetics industry welcomes any action which will protect the environment and our health from harm.\" They also added they had \"been working with the UK Environment Agency for several years to help the agency better understand sources of PFAS chemicals.\" But an email exchange seen by the BBC in late 2022 between senior advisors at the Environment Agency questions the transparency of the industry. In the exchange they revealed that: \"We have minimal knowledge of PFAS usage in cosmetics.\" Mia Davis, vice president of sustainability for Credo beauty - which is one of many brands which have prohibited these chemicals - told the BBC that its products show \"we can make beautiful make-up without them\". But Gloria Lu and Victoria Fu, who were previous formulation chemists at major beauty brands and now run their own brand Chemist Confessions which is PFAS-free, said that the industry should be wary of a knee-jerk reaction to certain chemicals like PFAS, as there may be regrettable substitutions where the replacement chemical has not been tested. L\\'Oréal told the BBC that product safety was its top priority and had in 2018 made the decision to phase out all PFAS. A L\\'Oréal spokesperson said: \"The phase out and substitution plans are well underway and we have already removed PFASs from the majority of our products.\" A Revolution Beauty spokesperson said: \"We comply fully with all EU and UK cosmetics regulations and we have already begun the process of phasing out poly- and perfluoroalkyl substances from our products.\"'"
      ]
     },
     "execution_count": 46,
     "metadata": {},
     "output_type": "execute_result"
    }
   ],
   "source": [
    "check_data[8]  # article about chemicals in cosmetics"
   ]
  },
  {
   "cell_type": "markdown",
   "id": "db9b54b0",
   "metadata": {},
   "source": [
    "Apparently because of this \"common\" topic, the model relates most of the articles mainly to it, because each article contains many such common words. In terms of the accuracy of the model, this is of course good, because it is right in that each article contains many such \"common\" words, but in terms of the usefulness of such a model, of course, not so much. Because trying to get a brief summary of an article, for example, we will only get a bunch of common words and phrases.\n",
    "\n",
    "But in spite of this, some articles it does a good job of defining not only to the 4 topic. For example 9 article which describes the BBC news investigation on the use of harmful chemicals in cosmetics, it is 0.997 accurate to topic 2 and it seems to be true, because this topic mentions 'uk', 'climate change', 'add', 'find'."
   ]
  }
 ],
 "metadata": {
  "kernelspec": {
   "display_name": "Python 3 (ipykernel)",
   "language": "python",
   "name": "python3"
  },
  "language_info": {
   "codemirror_mode": {
    "name": "ipython",
    "version": 3
   },
   "file_extension": ".py",
   "mimetype": "text/x-python",
   "name": "python",
   "nbconvert_exporter": "python",
   "pygments_lexer": "ipython3",
   "version": "3.10.7"
  }
 },
 "nbformat": 4,
 "nbformat_minor": 5
}
